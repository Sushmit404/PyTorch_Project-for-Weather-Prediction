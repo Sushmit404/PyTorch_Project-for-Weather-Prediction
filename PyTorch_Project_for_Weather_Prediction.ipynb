{
  "nbformat": 4,
  "nbformat_minor": 0,
  "metadata": {
    "colab": {
      "provenance": []
    },
    "kernelspec": {
      "name": "python3",
      "display_name": "Python 3"
    },
    "accelerator": "GPU",
    "gpuClass": "standard"
  },
  "cells": [
    {
      "cell_type": "markdown",
      "metadata": {
        "id": "STkc9j_Ji3vR"
      },
      "source": [
        "https://www.kaggle.com/jsphyg/weather-dataset-rattle-package"
      ]
    },
    {
      "cell_type": "markdown",
      "metadata": {
        "id": "FxYwxLJpkr9O"
      },
      "source": [
        "###Preprocessing"
      ]
    },
    {
      "cell_type": "code",
      "metadata": {
        "id": "4_fMjOCFkKkF",
        "colab": {
          "base_uri": "https://localhost:8080/"
        },
        "outputId": "7e75272f-bd8c-4ae1-c21d-f1d6b1cf0279"
      },
      "source": [
        "from google.colab import drive\n",
        "drive.mount('/content/drive')"
      ],
      "execution_count": 1,
      "outputs": [
        {
          "output_type": "stream",
          "name": "stdout",
          "text": [
            "Mounted at /content/drive\n"
          ]
        }
      ]
    },
    {
      "cell_type": "code",
      "metadata": {
        "id": "hpNQoL5jk2Mz"
      },
      "source": [
        "import pandas as pd\n",
        "from sklearn.model_selection import train_test_split\n",
        "\n",
        "import torch\n",
        "import torch.nn as nn\n",
        "import torch.nn.functional as F\n",
        "import torch.optim as optim"
      ],
      "execution_count": 2,
      "outputs": []
    },
    {
      "cell_type": "code",
      "metadata": {
        "id": "q0GqQrzekfx-"
      },
      "source": [
        "df = pd.read_csv(\"/content/drive/MyDrive/weatherAUS - weatherAUS.csv\")"
      ],
      "execution_count": 3,
      "outputs": []
    },
    {
      "cell_type": "code",
      "metadata": {
        "id": "pwaw1akHk78v",
        "colab": {
          "base_uri": "https://localhost:8080/"
        },
        "outputId": "134b6d46-35d5-4c9f-b035-338701137a12"
      },
      "source": [
        "df['RainToday'].replace({'No': 0, 'Yes': 1}, inplace = True)\n",
        "df['RainTomorrow'].replace({'No': 0, 'Yes': 1}, inplace = True)\n",
        "df = df.dropna(how='any')\n",
        "X = df[['Rainfall', 'Humidity3pm', 'RainToday', 'Pressure9am']]\n",
        "y = df[['RainTomorrow']]\n",
        "X_train, X_test, y_train, y_test = train_test_split(X, y, test_size=0.2, random_state=42)\n",
        "torch.manual_seed(0)"
      ],
      "execution_count": 4,
      "outputs": [
        {
          "output_type": "stream",
          "name": "stderr",
          "text": [
            "<ipython-input-4-79d6e5591c69>:1: FutureWarning: A value is trying to be set on a copy of a DataFrame or Series through chained assignment using an inplace method.\n",
            "The behavior will change in pandas 3.0. This inplace method will never work because the intermediate object on which we are setting values always behaves as a copy.\n",
            "\n",
            "For example, when doing 'df[col].method(value, inplace=True)', try using 'df.method({col: value}, inplace=True)' or df[col] = df[col].method(value) instead, to perform the operation inplace on the original object.\n",
            "\n",
            "\n",
            "  df['RainToday'].replace({'No': 0, 'Yes': 1}, inplace = True)\n",
            "<ipython-input-4-79d6e5591c69>:1: FutureWarning: Downcasting behavior in `replace` is deprecated and will be removed in a future version. To retain the old behavior, explicitly call `result.infer_objects(copy=False)`. To opt-in to the future behavior, set `pd.set_option('future.no_silent_downcasting', True)`\n",
            "  df['RainToday'].replace({'No': 0, 'Yes': 1}, inplace = True)\n",
            "<ipython-input-4-79d6e5591c69>:2: FutureWarning: A value is trying to be set on a copy of a DataFrame or Series through chained assignment using an inplace method.\n",
            "The behavior will change in pandas 3.0. This inplace method will never work because the intermediate object on which we are setting values always behaves as a copy.\n",
            "\n",
            "For example, when doing 'df[col].method(value, inplace=True)', try using 'df.method({col: value}, inplace=True)' or df[col] = df[col].method(value) instead, to perform the operation inplace on the original object.\n",
            "\n",
            "\n",
            "  df['RainTomorrow'].replace({'No': 0, 'Yes': 1}, inplace = True)\n",
            "<ipython-input-4-79d6e5591c69>:2: FutureWarning: Downcasting behavior in `replace` is deprecated and will be removed in a future version. To retain the old behavior, explicitly call `result.infer_objects(copy=False)`. To opt-in to the future behavior, set `pd.set_option('future.no_silent_downcasting', True)`\n",
            "  df['RainTomorrow'].replace({'No': 0, 'Yes': 1}, inplace = True)\n"
          ]
        },
        {
          "output_type": "execute_result",
          "data": {
            "text/plain": [
              "<torch._C.Generator at 0x7e69fa7dccf0>"
            ]
          },
          "metadata": {},
          "execution_count": 4
        }
      ]
    },
    {
      "cell_type": "markdown",
      "metadata": {
        "id": "hSw3HqF9sfhE"
      },
      "source": [
        "###PyTorch Model"
      ]
    },
    {
      "cell_type": "code",
      "metadata": {
        "id": "j0h-OsJ4lQj_"
      },
      "source": [
        "X_train = torch.from_numpy(X_train.to_numpy()).float()\n",
        "y_train = torch.squeeze(torch.from_numpy(y_train.to_numpy()).float())\n",
        "X_test = torch.from_numpy(X_test.to_numpy()).float()\n",
        "y_test = torch.squeeze(torch.from_numpy(y_test.to_numpy()).float())"
      ],
      "execution_count": 5,
      "outputs": []
    },
    {
      "cell_type": "code",
      "metadata": {
        "id": "K4vvcp0Y_6gy"
      },
      "source": [
        "class Net(nn.Module):\n",
        "  def __init__(self, n_features):\n",
        "    super(Net, self).__init__()\n",
        "    self.fc1 = nn.Linear(n_features, 5)\n",
        "    self.fc2 = nn.Linear(5, 3) #5 nodes to 3 #nodes\n",
        "    self.fc3 = nn.Linear(3, 1)\n",
        "  def forward(self, x):\n",
        "    x = F.relu(self.fc1(x))\n",
        "    x = F.relu(self.fc2(x))\n",
        "    return F.sigmoid(self.fc3(x))"
      ],
      "execution_count": 6,
      "outputs": []
    },
    {
      "cell_type": "code",
      "metadata": {
        "id": "oos2YOll_8zt",
        "colab": {
          "base_uri": "https://localhost:8080/"
        },
        "outputId": "d0214ac4-cf6e-4bad-dcf1-a41de7c0edfa"
      },
      "source": [
        "net = Net(X_train.shape[1])\n",
        "print(net)"
      ],
      "execution_count": 7,
      "outputs": [
        {
          "output_type": "stream",
          "name": "stdout",
          "text": [
            "Net(\n",
            "  (fc1): Linear(in_features=4, out_features=5, bias=True)\n",
            "  (fc2): Linear(in_features=5, out_features=3, bias=True)\n",
            "  (fc3): Linear(in_features=3, out_features=1, bias=True)\n",
            ")\n"
          ]
        }
      ]
    },
    {
      "cell_type": "code",
      "metadata": {
        "id": "4U3oqVivm-0K"
      },
      "source": [
        "device = torch.device(\"cuda:0\" if torch.cuda.is_available() else \"cpu\")"
      ],
      "execution_count": 8,
      "outputs": []
    },
    {
      "cell_type": "code",
      "metadata": {
        "id": "dqO0PrXbCIxu"
      },
      "source": [
        "num_epochs = 1000\n",
        "net = net.to(device)\n",
        "criterion = nn.BCELoss().to(device)\n",
        "optimizer = optim.Adam(net.parameters(), lr=0.001)"
      ],
      "execution_count": 9,
      "outputs": []
    },
    {
      "cell_type": "code",
      "metadata": {
        "id": "84IofiucnXFb"
      },
      "source": [
        "X_train = X_train.to(device)\n",
        "y_train = y_train.to(device)\n",
        "X_test = X_test.to(device)\n",
        "y_test = y_test.to(device)"
      ],
      "execution_count": 10,
      "outputs": []
    },
    {
      "cell_type": "code",
      "metadata": {
        "id": "i47W47rDCyJD"
      },
      "source": [
        "def calculate_accuracy(y_true, y_pred):\n",
        "  predicted = y_pred.ge(.5).view(-1) #set to 0 if < 0.5, 1 if >= 0.5\n",
        "  return (y_true == predicted).sum().float() / len(y_true)\n",
        "\n",
        "def round_tensor(t, decimal_places=3):\n",
        "  return round(t.item(), decimal_places)"
      ],
      "execution_count": 11,
      "outputs": []
    },
    {
      "cell_type": "markdown",
      "metadata": {
        "id": "hlLhXEeTv6rQ"
      },
      "source": [
        "###Training"
      ]
    },
    {
      "cell_type": "code",
      "metadata": {
        "id": "8WZxzyYnFHTH",
        "colab": {
          "base_uri": "https://localhost:8080/"
        },
        "outputId": "f96ab605-2cc7-4b96-8026-6e69c813aa6e"
      },
      "source": [
        "for epoch in range(num_epochs):\n",
        "    y_pred = net(X_train) ##important\n",
        "    y_pred = torch.squeeze(y_pred)\n",
        "    train_loss = criterion(y_pred, y_train) ##important\n",
        "    if epoch % 100 == 0:\n",
        "      train_acc = calculate_accuracy(y_train, y_pred)\n",
        "      y_test_pred = net(X_test)\n",
        "      y_test_pred = torch.squeeze(y_test_pred)\n",
        "      test_loss = criterion(y_test_pred, y_test)\n",
        "      test_acc = calculate_accuracy(y_test, y_test_pred)\n",
        "\n",
        "      model_file = {'model': Net(4),\n",
        "          'state_dict': net.state_dict(),\n",
        "          'optimizer' : optimizer.state_dict()}\n",
        "\n",
        "      torch.save(model_file, 'model%d.pth'% epoch)\n",
        "\n",
        "      print(\n",
        "f'''epoch {epoch}\n",
        "Train set - loss: {round_tensor(train_loss)}, accuracy: {round_tensor(train_acc)}\n",
        "Test  set - loss: {round_tensor(test_loss)}, accuracy: {round_tensor(test_acc)}\n",
        "''')\n",
        "    optimizer.zero_grad() ##important, set the gradient to 0 so gradients don't accumulate\n",
        "    train_loss.backward() ##important, backward propagation\n",
        "    optimizer.step() ##important, updates the optimizer"
      ],
      "execution_count": 12,
      "outputs": [
        {
          "output_type": "stream",
          "name": "stdout",
          "text": [
            "epoch 0\n",
            "Train set - loss: 23.981, accuracy: 0.76\n",
            "Test  set - loss: 22.182, accuracy: 0.778\n",
            "\n",
            "epoch 100\n",
            "Train set - loss: 23.981, accuracy: 0.76\n",
            "Test  set - loss: 22.182, accuracy: 0.778\n",
            "\n",
            "epoch 200\n",
            "Train set - loss: 23.981, accuracy: 0.76\n",
            "Test  set - loss: 22.182, accuracy: 0.778\n",
            "\n",
            "epoch 300\n",
            "Train set - loss: 23.981, accuracy: 0.76\n",
            "Test  set - loss: 22.182, accuracy: 0.778\n",
            "\n",
            "epoch 400\n",
            "Train set - loss: 23.981, accuracy: 0.76\n",
            "Test  set - loss: 22.182, accuracy: 0.778\n",
            "\n",
            "epoch 500\n",
            "Train set - loss: 23.981, accuracy: 0.76\n",
            "Test  set - loss: 22.182, accuracy: 0.778\n",
            "\n",
            "epoch 600\n",
            "Train set - loss: 23.981, accuracy: 0.76\n",
            "Test  set - loss: 22.182, accuracy: 0.778\n",
            "\n",
            "epoch 700\n",
            "Train set - loss: 23.981, accuracy: 0.76\n",
            "Test  set - loss: 22.182, accuracy: 0.778\n",
            "\n",
            "epoch 800\n",
            "Train set - loss: 23.981, accuracy: 0.76\n",
            "Test  set - loss: 22.182, accuracy: 0.778\n",
            "\n",
            "epoch 900\n",
            "Train set - loss: 23.981, accuracy: 0.76\n",
            "Test  set - loss: 22.182, accuracy: 0.778\n",
            "\n"
          ]
        }
      ]
    },
    {
      "cell_type": "markdown",
      "metadata": {
        "id": "Zv6DVpxov9dJ"
      },
      "source": [
        "###Inference"
      ]
    },
    {
      "cell_type": "code",
      "metadata": {
        "id": "OLW-AamowOR4",
        "colab": {
          "base_uri": "https://localhost:8080/"
        },
        "outputId": "13a47343-d2f6-45a2-fe46-fabdd98895b1"
      },
      "source": [
        "def load_model(filepath):\n",
        "    model_path = torch.load(filepath)\n",
        "    model = model_path['model']\n",
        "    model.load_state_dict(model_path['state_dict'])\n",
        "    for parameter in model.parameters():\n",
        "        parameter.requires_grad = False\n",
        "\n",
        "    model.eval() ##super important\n",
        "    return model\n",
        "\n",
        "model = load_model('model900.pth')"
      ],
      "execution_count": 13,
      "outputs": [
        {
          "output_type": "stream",
          "name": "stderr",
          "text": [
            "<ipython-input-13-aea1d34b6f3f>:2: FutureWarning: You are using `torch.load` with `weights_only=False` (the current default value), which uses the default pickle module implicitly. It is possible to construct malicious pickle data which will execute arbitrary code during unpickling (See https://github.com/pytorch/pytorch/blob/main/SECURITY.md#untrusted-models for more details). In a future release, the default value for `weights_only` will be flipped to `True`. This limits the functions that could be executed during unpickling. Arbitrary objects will no longer be allowed to be loaded via this mode unless they are explicitly allowlisted by the user via `torch.serialization.add_safe_globals`. We recommend you start setting `weights_only=True` for any use case where you don't have full control of the loaded file. Please open an issue on GitHub for any issues related to this experimental feature.\n",
            "  model_path = torch.load(filepath)\n"
          ]
        }
      ]
    },
    {
      "cell_type": "code",
      "metadata": {
        "id": "Qh4F6uz61MgC",
        "colab": {
          "base_uri": "https://localhost:8080/"
        },
        "outputId": "7fa3e268-fc83-4952-a663-e7d09688f6fc"
      },
      "source": [
        "model.cuda() #if on GPU, or don't need this line"
      ],
      "execution_count": 14,
      "outputs": [
        {
          "output_type": "execute_result",
          "data": {
            "text/plain": [
              "Net(\n",
              "  (fc1): Linear(in_features=4, out_features=5, bias=True)\n",
              "  (fc2): Linear(in_features=5, out_features=3, bias=True)\n",
              "  (fc3): Linear(in_features=3, out_features=1, bias=True)\n",
              ")"
            ]
          },
          "metadata": {},
          "execution_count": 14
        }
      ]
    },
    {
      "cell_type": "code",
      "metadata": {
        "id": "PEIIyghPzSZK"
      },
      "source": [
        "output = model(X_test)"
      ],
      "execution_count": 15,
      "outputs": []
    },
    {
      "cell_type": "code",
      "metadata": {
        "id": "7K4A8p9F1eqJ"
      },
      "source": [
        "y_pred = torch.squeeze(output)"
      ],
      "execution_count": 16,
      "outputs": []
    },
    {
      "cell_type": "code",
      "metadata": {
        "id": "97m1e2RO9qDf",
        "colab": {
          "base_uri": "https://localhost:8080/"
        },
        "outputId": "63ac1a5e-151f-460b-a30a-01a05a2bda22"
      },
      "source": [
        "calculate_accuracy(y_test, y_pred)"
      ],
      "execution_count": 17,
      "outputs": [
        {
          "output_type": "execute_result",
          "data": {
            "text/plain": [
              "tensor(0.7782, device='cuda:0')"
            ]
          },
          "metadata": {},
          "execution_count": 17
        }
      ]
    },
    {
      "cell_type": "code",
      "metadata": {
        "id": "quv2j1s_3P6X",
        "colab": {
          "base_uri": "https://localhost:8080/"
        },
        "outputId": "b3129c37-d6eb-4082-e139-f716864a9aab"
      },
      "source": [
        "model.state_dict()"
      ],
      "execution_count": 18,
      "outputs": [
        {
          "output_type": "execute_result",
          "data": {
            "text/plain": [
              "OrderedDict([('fc1.weight',\n",
              "              tensor([[-0.0037,  0.2682, -0.4115, -0.3680],\n",
              "                      [-0.1926,  0.1341, -0.0099,  0.3964],\n",
              "                      [-0.0444,  0.1323, -0.1511, -0.0983],\n",
              "                      [-0.4777, -0.3311, -0.2061,  0.0185],\n",
              "                      [ 0.1977,  0.3000, -0.3390, -0.2177]], device='cuda:0')),\n",
              "             ('fc1.bias',\n",
              "              tensor([ 0.1816,  0.4152, -0.1029,  0.3742, -0.0806], device='cuda:0')),\n",
              "             ('fc2.weight',\n",
              "              tensor([[ 0.0473,  0.4049, -0.4149, -0.2815, -0.1132],\n",
              "                      [-0.1743,  0.3864, -0.2899, -0.2059, -0.3124],\n",
              "                      [-0.4188, -0.2611,  0.3844,  0.1996,  0.2168]], device='cuda:0')),\n",
              "             ('fc2.bias',\n",
              "              tensor([ 0.0235, -0.2293,  0.0757], device='cuda:0')),\n",
              "             ('fc3.weight',\n",
              "              tensor([[-0.5391, -0.4172, -0.2976]], device='cuda:0')),\n",
              "             ('fc3.bias', tensor([0.3643], device='cuda:0'))])"
            ]
          },
          "metadata": {},
          "execution_count": 18
        }
      ]
    }
  ]
}